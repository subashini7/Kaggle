{
  "cells": [
    {
      "metadata": {
        "_uuid": "8f2839f25d086af736a60e9eeb907d3b93b6e0e5",
        "_cell_guid": "b1076dfc-b9ad-4769-8c92-a6c4dae69d19",
        "trusted": true
      },
      "cell_type": "code",
      "source": "# This Python 3 environment comes with many helpful analytics libraries installed\n# It is defined by the kaggle/python docker image: https://github.com/kaggle/docker-python\n# For example, here's several helpful packages to load in \n\nimport numpy as np # linear algebra\nimport pandas as pd # data processing, CSV file I/O (e.g. pd.read_csv)\n\n# Input data files are available in the \"../input/\" directory.\n# For example, running this (by clicking run or pressing Shift+Enter) will list the files in the input directory\n\nimport os\nprint(os.listdir(\"../input\"))\n\n# Any results you write to the current directory are saved as output.",
      "execution_count": 2,
      "outputs": [
        {
          "output_type": "stream",
          "text": "['train.csv', 'gender_submission.csv', 'test.csv']\n",
          "name": "stdout"
        }
      ]
    },
    {
      "metadata": {
        "_cell_guid": "79c7e3d0-c299-4dcb-8224-4455121ee9b0",
        "_uuid": "d629ff2d2480ee46fbb7e2d37f6b5fab8052498a",
        "trusted": true
      },
      "cell_type": "code",
      "source": "data = pd.read_csv('../input/train.csv')\ndata.head()\n\ntest_data_path = '../input/test.csv'\ntest_data = pd.read_csv(test_data_path)\ntest_data.head()",
      "execution_count": 3,
      "outputs": [
        {
          "output_type": "execute_result",
          "execution_count": 3,
          "data": {
            "text/plain": "   PassengerId  Pclass   ...    Cabin Embarked\n0          892       3   ...      NaN        Q\n1          893       3   ...      NaN        S\n2          894       2   ...      NaN        Q\n3          895       3   ...      NaN        S\n4          896       3   ...      NaN        S\n\n[5 rows x 11 columns]",
            "text/html": "<div>\n<style scoped>\n    .dataframe tbody tr th:only-of-type {\n        vertical-align: middle;\n    }\n\n    .dataframe tbody tr th {\n        vertical-align: top;\n    }\n\n    .dataframe thead th {\n        text-align: right;\n    }\n</style>\n<table border=\"1\" class=\"dataframe\">\n  <thead>\n    <tr style=\"text-align: right;\">\n      <th></th>\n      <th>PassengerId</th>\n      <th>Pclass</th>\n      <th>Name</th>\n      <th>Sex</th>\n      <th>Age</th>\n      <th>SibSp</th>\n      <th>Parch</th>\n      <th>Ticket</th>\n      <th>Fare</th>\n      <th>Cabin</th>\n      <th>Embarked</th>\n    </tr>\n  </thead>\n  <tbody>\n    <tr>\n      <th>0</th>\n      <td>892</td>\n      <td>3</td>\n      <td>Kelly, Mr. James</td>\n      <td>male</td>\n      <td>34.5</td>\n      <td>0</td>\n      <td>0</td>\n      <td>330911</td>\n      <td>7.8292</td>\n      <td>NaN</td>\n      <td>Q</td>\n    </tr>\n    <tr>\n      <th>1</th>\n      <td>893</td>\n      <td>3</td>\n      <td>Wilkes, Mrs. James (Ellen Needs)</td>\n      <td>female</td>\n      <td>47.0</td>\n      <td>1</td>\n      <td>0</td>\n      <td>363272</td>\n      <td>7.0000</td>\n      <td>NaN</td>\n      <td>S</td>\n    </tr>\n    <tr>\n      <th>2</th>\n      <td>894</td>\n      <td>2</td>\n      <td>Myles, Mr. Thomas Francis</td>\n      <td>male</td>\n      <td>62.0</td>\n      <td>0</td>\n      <td>0</td>\n      <td>240276</td>\n      <td>9.6875</td>\n      <td>NaN</td>\n      <td>Q</td>\n    </tr>\n    <tr>\n      <th>3</th>\n      <td>895</td>\n      <td>3</td>\n      <td>Wirz, Mr. Albert</td>\n      <td>male</td>\n      <td>27.0</td>\n      <td>0</td>\n      <td>0</td>\n      <td>315154</td>\n      <td>8.6625</td>\n      <td>NaN</td>\n      <td>S</td>\n    </tr>\n    <tr>\n      <th>4</th>\n      <td>896</td>\n      <td>3</td>\n      <td>Hirvonen, Mrs. Alexander (Helga E Lindqvist)</td>\n      <td>female</td>\n      <td>22.0</td>\n      <td>1</td>\n      <td>1</td>\n      <td>3101298</td>\n      <td>12.2875</td>\n      <td>NaN</td>\n      <td>S</td>\n    </tr>\n  </tbody>\n</table>\n</div>"
          },
          "metadata": {}
        }
      ]
    },
    {
      "metadata": {
        "trusted": true,
        "_uuid": "4ca7060f1b9aadefe5322e7c4dacbda64c334190"
      },
      "cell_type": "code",
      "source": "from sklearn.model_selection import train_test_split\nfrom sklearn.impute import SimpleImputer\nfrom sklearn import model_selection, preprocessing \n\ndata.dropna(axis=0, subset=['Survived'], inplace=True)\ny = data.Survived #np.log1p(data.SalePrice)\n\n#data[\"trainOrTest\"] = \"train\"\n#test_data[\"trainOrTest\"] = \"test\"\nnum_train = len(data)\n\ndf_all = pd.concat([data, test_data])\ndf_all = df_all.drop(['Survived','PassengerId','Name','Ticket','Cabin'], axis=1) #.select_dtypes(exclude=['object'])\n\nfor c in df_all.columns:\n    if df_all[c].dtype == 'object':\n        lbl = preprocessing.LabelEncoder()\n        lbl.fit(list(df_all[c].values)) \n        df_all[c] = lbl.transform(list(df_all[c].values))\n        \n",
      "execution_count": 4,
      "outputs": [
        {
          "output_type": "stream",
          "text": "/opt/conda/lib/python3.6/site-packages/ipykernel_launcher.py:12: FutureWarning: Sorting because non-concatenation axis is not aligned. A future version\nof pandas will change to not sort by default.\n\nTo accept the future behavior, pass 'sort=False'.\n\nTo retain the current behavior and silence the warning, pass 'sort=True'.\n\n  if sys.path[0] == '':\n",
          "name": "stderr"
        }
      ]
    },
    {
      "metadata": {
        "trusted": true,
        "_uuid": "7b20e3d064985f34d2f87196867389fd3417540b"
      },
      "cell_type": "code",
      "source": "#X = pd.get_dummies(X)\nX = df_all[:num_train]\ntrain_X, val_X, train_y, val_y = train_test_split(X, y, test_size=0.25,\n                                    random_state=1)\n\ntest_X = df_all[num_train:]\n\nmy_imputer = SimpleImputer()\ntrain_X = my_imputer.fit_transform(train_X)\nval_X = my_imputer.transform(val_X)\ntest_X = my_imputer.transform(test_X)\n\n\n#from sklearn.preprocessing import StandardScaler\n#sc = StandardScaler()\n#train_X = sc.fit_transform(train_X)\n#val_X = sc.transform(val_X)\n#test_X = sc.transform(test_X)\n#print(train_X)",
      "execution_count": 5,
      "outputs": []
    },
    {
      "metadata": {
        "trusted": true,
        "_uuid": "8010c0e6809001581fc04293eb3bfedc56d659ac"
      },
      "cell_type": "code",
      "source": "feature_names = [i for i in X.columns]\nprint(feature_names)\nX.describe()",
      "execution_count": 6,
      "outputs": [
        {
          "output_type": "stream",
          "text": "['Age', 'Embarked', 'Fare', 'Parch', 'Pclass', 'Sex', 'SibSp']\n",
          "name": "stdout"
        },
        {
          "output_type": "execute_result",
          "execution_count": 6,
          "data": {
            "text/plain": "              Age    Embarked     ...             Sex       SibSp\ncount  714.000000  891.000000     ...      891.000000  891.000000\nmean    29.699118    1.538721     ...        0.647587    0.523008\nstd     14.526497    0.794231     ...        0.477990    1.102743\nmin      0.420000    0.000000     ...        0.000000    0.000000\n25%     20.125000    1.000000     ...        0.000000    0.000000\n50%     28.000000    2.000000     ...        1.000000    0.000000\n75%     38.000000    2.000000     ...        1.000000    1.000000\nmax     80.000000    3.000000     ...        1.000000    8.000000\n\n[8 rows x 7 columns]",
            "text/html": "<div>\n<style scoped>\n    .dataframe tbody tr th:only-of-type {\n        vertical-align: middle;\n    }\n\n    .dataframe tbody tr th {\n        vertical-align: top;\n    }\n\n    .dataframe thead th {\n        text-align: right;\n    }\n</style>\n<table border=\"1\" class=\"dataframe\">\n  <thead>\n    <tr style=\"text-align: right;\">\n      <th></th>\n      <th>Age</th>\n      <th>Embarked</th>\n      <th>Fare</th>\n      <th>Parch</th>\n      <th>Pclass</th>\n      <th>Sex</th>\n      <th>SibSp</th>\n    </tr>\n  </thead>\n  <tbody>\n    <tr>\n      <th>count</th>\n      <td>714.000000</td>\n      <td>891.000000</td>\n      <td>891.000000</td>\n      <td>891.000000</td>\n      <td>891.000000</td>\n      <td>891.000000</td>\n      <td>891.000000</td>\n    </tr>\n    <tr>\n      <th>mean</th>\n      <td>29.699118</td>\n      <td>1.538721</td>\n      <td>32.204208</td>\n      <td>0.381594</td>\n      <td>2.308642</td>\n      <td>0.647587</td>\n      <td>0.523008</td>\n    </tr>\n    <tr>\n      <th>std</th>\n      <td>14.526497</td>\n      <td>0.794231</td>\n      <td>49.693429</td>\n      <td>0.806057</td>\n      <td>0.836071</td>\n      <td>0.477990</td>\n      <td>1.102743</td>\n    </tr>\n    <tr>\n      <th>min</th>\n      <td>0.420000</td>\n      <td>0.000000</td>\n      <td>0.000000</td>\n      <td>0.000000</td>\n      <td>1.000000</td>\n      <td>0.000000</td>\n      <td>0.000000</td>\n    </tr>\n    <tr>\n      <th>25%</th>\n      <td>20.125000</td>\n      <td>1.000000</td>\n      <td>7.910400</td>\n      <td>0.000000</td>\n      <td>2.000000</td>\n      <td>0.000000</td>\n      <td>0.000000</td>\n    </tr>\n    <tr>\n      <th>50%</th>\n      <td>28.000000</td>\n      <td>2.000000</td>\n      <td>14.454200</td>\n      <td>0.000000</td>\n      <td>3.000000</td>\n      <td>1.000000</td>\n      <td>0.000000</td>\n    </tr>\n    <tr>\n      <th>75%</th>\n      <td>38.000000</td>\n      <td>2.000000</td>\n      <td>31.000000</td>\n      <td>0.000000</td>\n      <td>3.000000</td>\n      <td>1.000000</td>\n      <td>1.000000</td>\n    </tr>\n    <tr>\n      <th>max</th>\n      <td>80.000000</td>\n      <td>3.000000</td>\n      <td>512.329200</td>\n      <td>6.000000</td>\n      <td>3.000000</td>\n      <td>1.000000</td>\n      <td>8.000000</td>\n    </tr>\n  </tbody>\n</table>\n</div>"
          },
          "metadata": {}
        }
      ]
    },
    {
      "metadata": {
        "trusted": true,
        "_uuid": "9f650bd53107fb22ee32e37a7c4f031f258f8f2b"
      },
      "cell_type": "code",
      "source": "from sklearn.ensemble import RandomForestClassifier\nfrom sklearn.metrics import mean_absolute_error\n\nforest_model = RandomForestClassifier(random_state=1, n_estimators=100)\nforest_model.fit(train_X, train_y)\npreds = forest_model.predict(val_X)\nprint(mean_absolute_error(val_y, preds))",
      "execution_count": 7,
      "outputs": [
        {
          "output_type": "stream",
          "text": "0.23766816143497757\n",
          "name": "stdout"
        }
      ]
    },
    {
      "metadata": {
        "trusted": true,
        "_uuid": "2a4ec47807bf9b0d81cc6474b7d5b027e683c869"
      },
      "cell_type": "code",
      "source": "from xgboost import XGBClassifier\n\nmy_model = XGBClassifier(n_estimators=100, learning_rate=0.05,\n                         random_state=1,max_depth=7,\n                         objective='binary:logistic')\nmy_model.fit(train_X, train_y, early_stopping_rounds=500, \n             eval_set=[(val_X, val_y)], eval_metric='auc',\n             verbose=False)",
      "execution_count": 8,
      "outputs": [
        {
          "output_type": "execute_result",
          "execution_count": 8,
          "data": {
            "text/plain": "XGBClassifier(base_score=0.5, booster='gbtree', colsample_bylevel=1,\n       colsample_bytree=1, gamma=0, learning_rate=0.05, max_delta_step=0,\n       max_depth=7, min_child_weight=1, missing=None, n_estimators=100,\n       n_jobs=1, nthread=None, objective='binary:logistic', random_state=1,\n       reg_alpha=0, reg_lambda=1, scale_pos_weight=1, seed=None,\n       silent=True, subsample=1)"
          },
          "metadata": {}
        }
      ]
    },
    {
      "metadata": {
        "trusted": true,
        "_uuid": "0ec1b897f05f733fe29945c16c44e610aab514c8"
      },
      "cell_type": "code",
      "source": "#predictions = my_model.predict(train_X)\n#y_pred = np.exp(predictions) - 1\n#val_y_cor = np.exp(val_y)-1\n#predictions[1:]\n#from sklearn.metrics import log_loss\n#print(\"Mean Absolute Error : \" + str(log_loss(predictions, train_y)))\n# max_depth=7,gamma=0,\n #                        colsample_bytree=1,",
      "execution_count": 9,
      "outputs": []
    },
    {
      "metadata": {
        "trusted": true,
        "_uuid": "39cb5b2e8b13d970738826d44f18c71488815215"
      },
      "cell_type": "code",
      "source": "predictions = my_model.predict(val_X)\n#from sklearn.metrics import mean_absolute_error\nfrom sklearn.metrics import log_loss\nprint(\"Mean Absolute Error : \" + str(log_loss(predictions, val_y)))\n#print(\"Mean Absolute Error : \" + str(mean_absolute_error(y_pred, val_y_cor)))",
      "execution_count": 10,
      "outputs": [
        {
          "output_type": "stream",
          "text": "Mean Absolute Error : 6.660061756485901\n",
          "name": "stdout"
        }
      ]
    },
    {
      "metadata": {
        "trusted": true,
        "_uuid": "dc79ac6f1b918cef1580013ee107091649a3a24c"
      },
      "cell_type": "code",
      "source": "import eli5\nfrom eli5.sklearn import PermutationImportance\n\nperm = PermutationImportance(my_model, random_state=1).fit(val_X, val_y)\neli5.show_weights(perm, feature_names = feature_names)",
      "execution_count": 11,
      "outputs": [
        {
          "output_type": "execute_result",
          "execution_count": 11,
          "data": {
            "text/plain": "<IPython.core.display.HTML object>",
            "text/html": "\n    <style>\n    table.eli5-weights tr:hover {\n        filter: brightness(85%);\n    }\n</style>\n\n\n\n    \n\n    \n\n    \n\n    \n\n    \n\n    \n\n\n    \n\n    \n\n    \n\n    \n\n    \n\n    \n\n\n    \n\n    \n\n    \n\n    \n\n    \n        <table class=\"eli5-weights eli5-feature-importances\" style=\"border-collapse: collapse; border: none; margin-top: 0em; table-layout: auto;\">\n    <thead>\n    <tr style=\"border: none;\">\n        <th style=\"padding: 0 1em 0 0.5em; text-align: right; border: none;\">Weight</th>\n        <th style=\"padding: 0 0.5em 0 0.5em; text-align: left; border: none;\">Feature</th>\n    </tr>\n    </thead>\n    <tbody>\n    \n        <tr style=\"background-color: hsl(120, 100.00%, 80.00%); border: none;\">\n            <td style=\"padding: 0 1em 0 0.5em; text-align: right; border: none;\">\n                0.2242\n                \n                    &plusmn; 0.0664\n                \n            </td>\n            <td style=\"padding: 0 0.5em 0 0.5em; text-align: left; border: none;\">\n                Sex\n            </td>\n        </tr>\n    \n        <tr style=\"background-color: hsl(120, 100.00%, 90.91%); border: none;\">\n            <td style=\"padding: 0 1em 0 0.5em; text-align: right; border: none;\">\n                0.0726\n                \n                    &plusmn; 0.0200\n                \n            </td>\n            <td style=\"padding: 0 0.5em 0 0.5em; text-align: left; border: none;\">\n                Pclass\n            </td>\n        </tr>\n    \n        <tr style=\"background-color: hsl(120, 100.00%, 94.85%); border: none;\">\n            <td style=\"padding: 0 1em 0 0.5em; text-align: right; border: none;\">\n                0.0323\n                \n                    &plusmn; 0.0174\n                \n            </td>\n            <td style=\"padding: 0 0.5em 0 0.5em; text-align: left; border: none;\">\n                Age\n            </td>\n        </tr>\n    \n        <tr style=\"background-color: hsl(120, 100.00%, 94.95%); border: none;\">\n            <td style=\"padding: 0 1em 0 0.5em; text-align: right; border: none;\">\n                0.0314\n                \n                    &plusmn; 0.0150\n                \n            </td>\n            <td style=\"padding: 0 0.5em 0 0.5em; text-align: left; border: none;\">\n                Fare\n            </td>\n        </tr>\n    \n        <tr style=\"background-color: hsl(120, 100.00%, 95.68%); border: none;\">\n            <td style=\"padding: 0 1em 0 0.5em; text-align: right; border: none;\">\n                0.0251\n                \n                    &plusmn; 0.0044\n                \n            </td>\n            <td style=\"padding: 0 0.5em 0 0.5em; text-align: left; border: none;\">\n                SibSp\n            </td>\n        </tr>\n    \n        <tr style=\"background-color: hsl(120, 100.00%, 96.83%); border: none;\">\n            <td style=\"padding: 0 1em 0 0.5em; text-align: right; border: none;\">\n                0.0161\n                \n                    &plusmn; 0.0217\n                \n            </td>\n            <td style=\"padding: 0 0.5em 0 0.5em; text-align: left; border: none;\">\n                Embarked\n            </td>\n        </tr>\n    \n        <tr style=\"background-color: hsl(120, 100.00%, 99.58%); border: none;\">\n            <td style=\"padding: 0 1em 0 0.5em; text-align: right; border: none;\">\n                0.0009\n                \n                    &plusmn; 0.0036\n                \n            </td>\n            <td style=\"padding: 0 0.5em 0 0.5em; text-align: left; border: none;\">\n                Parch\n            </td>\n        </tr>\n    \n    \n    </tbody>\n</table>\n    \n\n    \n\n\n    \n\n    \n\n    \n\n    \n\n    \n\n    \n\n\n\n"
          },
          "metadata": {}
        }
      ]
    },
    {
      "metadata": {
        "trusted": true,
        "_uuid": "5f70e5d34b78d4b7f96c8d4a79cfbd80b4444ea6"
      },
      "cell_type": "code",
      "source": "#from matplotlib import pyplot as plt\n#from pdpbox import pdp, get_dataset, info_plots\n\n# Create the data that we will plot\n#pdp_goals = pdp.pdp_isolate(model=my_model, dataset=data, model_features=feature_names, feature='Fare')\n\n# plot it\n#pdp.pdp_plot(pdp_goals, 'Fare')\n#plt.show()",
      "execution_count": 12,
      "outputs": []
    },
    {
      "metadata": {
        "trusted": true,
        "_uuid": "2631f11f7a66c67fc11c14ca7ac172a57c52eca5"
      },
      "cell_type": "code",
      "source": "#test_data_path = '../input/test.csv'\n#test_data = pd.read_csv(test_data_path)\n#test_data.head()\n#cols = list(X.columns.values)",
      "execution_count": null,
      "outputs": []
    },
    {
      "metadata": {
        "trusted": true,
        "_uuid": "277d48a6c0b63331a9d5e230cc6f45195ae029d1"
      },
      "cell_type": "code",
      "source": "#test_X = test_data[X.columns]\n#test_X = my_imputer.transform(test_X)\n#test_X = sc.transform(test_X)",
      "execution_count": null,
      "outputs": []
    },
    {
      "metadata": {
        "trusted": true,
        "_uuid": "360fd6452cf880a484f59185e0aea601329e9486"
      },
      "cell_type": "code",
      "source": "test_predictions = my_model.predict(test_X)\n#test_y = np.exp(test_predictions) - 1\noutput = pd.DataFrame({'PassengerId': test_data.PassengerId,\n                       'Survived': test_predictions})\n\noutput.to_csv('gender_submission.csv', index=False)",
      "execution_count": 13,
      "outputs": []
    }
  ],
  "metadata": {
    "kernelspec": {
      "display_name": "Python 3",
      "language": "python",
      "name": "python3"
    },
    "language_info": {
      "name": "python",
      "version": "3.6.6",
      "mimetype": "text/x-python",
      "codemirror_mode": {
        "name": "ipython",
        "version": 3
      },
      "pygments_lexer": "ipython3",
      "nbconvert_exporter": "python",
      "file_extension": ".py"
    }
  },
  "nbformat": 4,
  "nbformat_minor": 1
}